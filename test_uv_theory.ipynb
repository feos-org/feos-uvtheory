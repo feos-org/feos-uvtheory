{
 "cells": [
  {
   "cell_type": "markdown",
   "metadata": {},
   "source": [
    "# Test uv-theory WCA implementation"
   ]
  },
  {
   "cell_type": "code",
   "execution_count": 1,
   "metadata": {},
   "outputs": [],
   "source": [
    "from feos_uvtheory import *\n",
    "from feos_uvtheory.si import *\n",
    "from feos_uvtheory.eos import *\n",
    "import numpy as np"
   ]
  },
  {
   "cell_type": "markdown",
   "metadata": {},
   "source": [
    "**1. Pure fluids**"
   ]
  },
  {
   "cell_type": "code",
   "execution_count": 2,
   "metadata": {},
   "outputs": [],
   "source": [
    "diameters = np.array([3.7039]) # in Angstrom\n",
    "eps_k = np.array([150.03]) # in Kelvin\n",
    "\n",
    "\n",
    "## WCA ##\n",
    "parameters_wca = UVParameters.from_lists(np.array([12.0]), np.array([6.0]), diameters, eps_k)\n",
    "eos_wca = UVTheory(parameters_wca, perturbation=Perturbation.WeeksChandlerAndersen, max_eta=0.5)\n",
    "\n",
    "## BH ##\n",
    "parameters_bh = UVParameters.from_lists(np.array([24.0]), np.array([6.0]), diameters, eps_k)\n",
    "eos_bh = UVTheory(parameters_bh, perturbation=Perturbation.BarkerHenderson)\n",
    "\n",
    "## State ##\n",
    "dimensionless_temperature = 4.0\n",
    "dimensionless_density = 1.0\n",
    "temperature = dimensionless_temperature * eps_k[0] * KELVIN\n",
    "density = dimensionless_density / (diameters[0]**3 * ANGSTROM**3 * NAV)\n",
    "\n",
    "\n",
    "state_wca = State(eos_wca, temperature=temperature, density=density, molefracs = np.array([1.0]))\n",
    "state_bh = State(eos_bh, temperature=temperature, density=density, molefracs = np.array([1.0]))"
   ]
  },
  {
   "cell_type": "code",
   "execution_count": 3,
   "metadata": {},
   "outputs": [
    {
     "name": "stdout",
     "output_type": "stream",
     "text": [
      "      |Result Rust Implementation| Result Thijs | Difference\n",
      "  WCA |1.9736553254042635        | 1.973655316  |9.404263368040233e-09\n",
      "  BH  |2.9935773057794126        | 2.993577297  |8.779412752346616e-09\n"
     ]
    }
   ],
   "source": [
    "a_wca = state_wca.helmholtz_energy(Contributions.Residual) / (KB * temperature)\n",
    "a_bh = state_bh.helmholtz_energy(Contributions.Residual) / (KB * temperature)\n",
    "a_thijs_wca = 1.973655316\n",
    "a_thijs_bh = 2.993577297\n",
    "print('      |Result Rust Implementation| Result Thijs | Difference')\n",
    "print('  WCA |{}        | {}  |{}'.format(a_wca, a_thijs_wca, np.abs(a_wca - a_thijs_wca)))\n",
    "print('  BH  |{}        | {}  |{}'.format(a_bh, a_thijs_bh, np.abs(a_bh - a_thijs_bh)))"
   ]
  },
  {
   "cell_type": "markdown",
   "metadata": {},
   "source": [
    "**2. Mixtures**"
   ]
  },
  {
   "cell_type": "markdown",
   "metadata": {},
   "source": [
    "Test 1: \"Mixture\" of equal components"
   ]
  },
  {
   "cell_type": "code",
   "execution_count": 4,
   "metadata": {},
   "outputs": [
    {
     "name": "stdout",
     "output_type": "stream",
     "text": [
      "      |Result Rust Implementation| Result Thijs | Difference\n",
      "  WCA |1.973655325404259        | 1.973655316  |9.404258927148135e-09\n",
      "  BH  |2.993577305779411        | 2.993577297  |8.779410975989776e-09\n"
     ]
    }
   ],
   "source": [
    "diameters = np.array([3.7039, 3.7039]) # in Angstrom\n",
    "eps_k = np.array([150.03, 150.03]) # in Kelvin\n",
    "\n",
    "## WCA ##\n",
    "parameters_wca = UVParameters.from_lists(np.array([12.0, 12.0]), np.array([6.0, 6.0]), diameters, eps_k)\n",
    "eos_wca = UVTheory(parameters_wca, perturbation=Perturbation.WeeksChandlerAndersen)\n",
    "\n",
    "## BH ##\n",
    "parameters_bh = UVParameters.from_lists(np.array([24.0, 24.0]), np.array([6.0, 6.0]), diameters, eps_k)\n",
    "eos_bh = UVTheory(parameters_bh, perturbation=Perturbation.BarkerHenderson)\n",
    "\n",
    "## State ##\n",
    "dimensionless_temperature = 4.0\n",
    "dimensionless_density = 1.0\n",
    "temperature = dimensionless_temperature * eps_k[0] * KELVIN\n",
    "density = dimensionless_density / (diameters[0]**3 * ANGSTROM**3 * NAV)\n",
    "\n",
    "\n",
    "state_wca = State(eos_wca, temperature=temperature, density=density, molefracs = np.array([0.7, 0.3]))\n",
    "a_wca = state_wca.helmholtz_energy(Contributions.Residual) / (KB * temperature)\n",
    "\n",
    "state_bh = State(eos_bh, temperature=temperature, density=density, molefracs = np.array([0.7, 0.3]))\n",
    "a_bh = state_bh.helmholtz_energy(Contributions.Residual) / (KB * temperature)\n",
    "\n",
    "a_thijs_wca = 1.973655316\n",
    "a_thijs_bh = 2.993577297\n",
    "print('      |Result Rust Implementation| Result Thijs | Difference')\n",
    "print('  WCA |{}        | {}  |{}'.format(a_wca, a_thijs_wca, np.abs(a_wca - a_thijs_wca)))\n",
    "print('  BH  |{}        | {}  |{}'.format(a_bh, a_thijs_bh, np.abs(a_bh - a_thijs_bh)))"
   ]
  },
  {
   "cell_type": "markdown",
   "metadata": {},
   "source": [
    "Test 2: Different energy parameters"
   ]
  },
  {
   "cell_type": "code",
   "execution_count": 23,
   "metadata": {},
   "outputs": [
    {
     "name": "stdout",
     "output_type": "stream",
     "text": [
      "          |Result Rust Implementation| Result Thijs | Difference\n",
      "  HS      |3.863690488856311        | 3.8636904888563084  |2.6645352591003757e-15\n",
      " Delta a0 |0.30826889687807507        | 0.308268896386771  |4.913040529963553e-10\n",
      " a_disp   |-4.769750221478107        | -4.769750423607484  |2.02129377235849e-07\n",
      " Full WCA |-0.597790835743721        | -0.597791038364405  |2.0262068389786947e-07\n"
     ]
    }
   ],
   "source": [
    "diameters = np.array([1.0, 1.0]) # in Angstrom\n",
    "eps_k = np.array([1.0, 0.5]) # in Kelvin\n",
    "## State ##\n",
    "dimensionless_temperature = 1.0\n",
    "dimensionless_density = 0.9\n",
    "temperature = dimensionless_temperature * eps_k[0] * KELVIN\n",
    "density = dimensionless_density / (diameters[0]**3 * ANGSTROM**3 * NAV)\n",
    "\n",
    "## WCA Results Thijs for comparison ###\n",
    "a0 = 4.1719593852430794 \n",
    "ahs = 3.8636904888563084\n",
    "delta_a0 = a0 - ahs\n",
    "Delta_B2 = -4.7846399638747954\n",
    "a1u = -4.7678301069070645\n",
    "phi_u =  0.99750066585468078\n",
    "a_disp = -4.7697504236074844\n",
    "a = a0 + a_disp\n",
    "\n",
    "## WCA ##\n",
    "parameters_wca = UVParameters.from_lists(np.array([12.0, 12.0]), np.array([6.0, 6.0]), diameters, eps_k)\n",
    "eos_wca = UVTheory(parameters_wca, perturbation=Perturbation.WeeksChandlerAndersen)\n",
    "\n",
    "\n",
    "state_wca = State(eos_wca, temperature=temperature, density=density, molefracs = np.array([0.4, 0.6]))\n",
    "a_wca = state_wca.helmholtz_energy(Contributions.Residual) / (KB * temperature)\n",
    "\n",
    "\n",
    "a_thijs_wca = -4.7697504236074844 + 4.1719593852430794\n",
    "print('          |Result Rust Implementation| Result Thijs | Difference')\n",
    "print('  HS      |{}        | {}  |{}'.format(state_wca.helmholtz_energy_contributions()[1][1] / (KB * temperature) , ahs, np.abs(state_wca.helmholtz_energy_contributions()[1][1] / (KB * temperature) - ahs)))\n",
    "print(' Delta a0 |{}        | {}  |{}'.format(state_wca.helmholtz_energy_contributions()[2][1] / (KB * temperature), delta_a0, np.abs(state_wca.helmholtz_energy_contributions()[2][1] / (KB * temperature) - delta_a0)))\n",
    "print(' a_disp   |{}        | {}  |{}'.format(state_wca.helmholtz_energy_contributions()[3][1] / (KB * temperature), a_disp, np.abs(state_wca.helmholtz_energy_contributions()[3][1] / (KB * temperature) - a_disp)))\n",
    "print(' Full WCA |{}        | {}  |{}'.format(a_wca, a, np.abs(a_wca - a)))"
   ]
  },
  {
   "cell_type": "markdown",
   "metadata": {},
   "source": [
    "Test 3: Different energy parameters and diameters"
   ]
  },
  {
   "cell_type": "code",
   "execution_count": 24,
   "metadata": {},
   "outputs": [
    {
     "name": "stdout",
     "output_type": "stream",
     "text": [
      "      |Result Rust Implementation| Result Thijs | Difference\n",
      "  WCA |-0.03420620736313928        | -0.03420692820574689  |7.208426076113494e-07\n"
     ]
    }
   ],
   "source": [
    "diameters = np.array([1.0, 2.0]) # in Angstrom\n",
    "eps_k = np.array([1.0, 0.5]) # in Kelvin\n",
    "\n",
    "## WCA ##\n",
    "parameters_wca = UVParameters.from_lists(np.array([12.0, 12.0]), np.array([6.0, 6.0]), diameters, eps_k)\n",
    "eos_wca = UVTheory(parameters_wca, perturbation=Perturbation.WeeksChandlerAndersen)\n",
    "\n",
    "## State ##\n",
    "dimensionless_temperature = 1.5\n",
    "dimensionless_density = 0.52\n",
    "temperature = dimensionless_temperature * eps_k[0] * KELVIN\n",
    "sigma_x_3 = 0.4 * diameters[0]**3 + 0.6 * diameters[1]**3\n",
    "density = dimensionless_density / (sigma_x_3 * ANGSTROM**3 * NAV)\n",
    "\n",
    "\n",
    "state_wca = State(eos_wca, temperature=temperature, density=density, molefracs = np.array([0.4, 0.6]))\n",
    "a_wca = state_wca.helmholtz_energy(Contributions.Residual) / (KB * temperature)\n",
    "\n",
    "a = 1.2976589884809138 - 1.3318659166866607\n",
    "\n",
    "a_thijs_wca = -4.7697504236074844 + 4.1719593852430794\n",
    "print('      |Result Rust Implementation| Result Thijs | Difference')\n",
    "print('  WCA |{}        | {}  |{}'.format(a_wca, a, np.abs(a_wca - a)))"
   ]
  }
 ],
 "metadata": {
  "kernelspec": {
   "display_name": "feos_github_venv",
   "language": "python",
   "name": "feos_github_venv"
  },
  "language_info": {
   "codemirror_mode": {
    "name": "ipython",
    "version": 3
   },
   "file_extension": ".py",
   "mimetype": "text/x-python",
   "name": "python",
   "nbconvert_exporter": "python",
   "pygments_lexer": "ipython3",
   "version": "3.8.5"
  }
 },
 "nbformat": 4,
 "nbformat_minor": 4
}
