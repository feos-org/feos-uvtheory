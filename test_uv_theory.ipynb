{
 "cells": [
  {
   "cell_type": "markdown",
   "metadata": {},
   "source": [
    "# Test uv theory implementation"
   ]
  },
  {
   "cell_type": "code",
   "execution_count": 2,
   "metadata": {},
   "outputs": [],
   "source": [
    "from feos_uvtheory import *\n",
    "from feos_uvtheory.si import *\n",
    "from feos_uvtheory.eos import *\n",
    "import numpy as np"
   ]
  },
  {
   "cell_type": "markdown",
   "metadata": {},
   "source": [
    "**1. Pure fluids**"
   ]
  },
  {
   "cell_type": "code",
   "execution_count": 6,
   "metadata": {},
   "outputs": [],
   "source": [
    "diameters = np.array([3.7039]) # in Angstrom\n",
    "eps_k = np.array([150.03]) # in Kelvin\n",
    "\n",
    "\n",
    "## WCA ##\n",
    "parameters_wca = UVParameters.from_lists(np.array([12.0]), np.array([6.0]), diameters, eps_k)\n",
    "eos_wca = UVTheory(parameters_wca, perturbation=Perturbation.WeeksChandlerAndersen, max_eta=0.5)\n",
    "\n",
    "## BH ##\n",
    "parameters_bh = UVParameters.from_lists(np.array([24.0]), np.array([6.0]), diameters, eps_k)\n",
    "eos_bh = UVTheory(parameters_bh, perturbation=Perturbation.BarkerHenderson)\n",
    "\n",
    "## State ##\n",
    "dimensionless_temperature = 4.0\n",
    "dimensionless_density = 1.0\n",
    "temperature = dimensionless_temperature * eps_k[0] * KELVIN\n",
    "density = dimensionless_density / (diameters[0]**3 * ANGSTROM**3 * NAV)\n",
    "\n",
    "\n",
    "state_wca = State(eos_wca, temperature=temperature, density=density, molefracs = np.array([1.0]))\n",
    "state_bh = State(eos_bh, temperature=temperature, density=density, molefracs = np.array([1.0]))"
   ]
  },
  {
   "cell_type": "code",
   "execution_count": 7,
   "metadata": {},
   "outputs": [
    {
     "name": "stdout",
     "output_type": "stream",
     "text": [
      "      |Result Rust Implementation| Result Thijs | Difference\n",
      "  WCA |1.9736553254042635        | 1.973655316  |9.404263368040233e-09\n",
      "  BH  |2.9935773057794126        | 2.993577297  |8.779412752346616e-09\n"
     ]
    }
   ],
   "source": [
    "a_wca = state_wca.helmholtz_energy(Contributions.Residual) / (KB * temperature)\n",
    "a_bh = state_bh.helmholtz_energy(Contributions.Residual) / (KB * temperature)\n",
    "a_thijs_wca = 1.973655316\n",
    "a_thijs_bh = 2.993577297\n",
    "print('      |Result Rust Implementation| Result Thijs | Difference')\n",
    "print('  WCA |{}        | {}  |{}'.format(a_wca, a_thijs_wca, np.abs(a_wca - a_thijs_wca)))\n",
    "print('  BH  |{}        | {}  |{}'.format(a_bh, a_thijs_bh, np.abs(a_bh - a_thijs_bh)))"
   ]
  },
  {
   "cell_type": "markdown",
   "metadata": {},
   "source": [
    "**2. Mixtures**"
   ]
  },
  {
   "cell_type": "markdown",
   "metadata": {},
   "source": [
    "Test 1: \"Mixture\" of equal components"
   ]
  },
  {
   "cell_type": "code",
   "execution_count": 9,
   "metadata": {},
   "outputs": [
    {
     "name": "stdout",
     "output_type": "stream",
     "text": [
      "      |Result Rust Implementation| Result Thijs | Difference\n",
      "  WCA |1.973655325404259        | 1.973655316  |9.404258927148135e-09\n",
      "  BH  |2.993577305779411        | 2.993577297  |8.779410975989776e-09\n"
     ]
    }
   ],
   "source": [
    "diameters = np.array([3.7039, 3.7039]) # in Angstrom\n",
    "eps_k = np.array([150.03, 150.03]) # in Kelvin\n",
    "\n",
    "## WCA ##\n",
    "parameters_wca = UVParameters.from_lists(np.array([12.0, 12.0]), np.array([6.0, 6.0]), diameters, eps_k)\n",
    "eos_wca = UVTheory(parameters_wca, perturbation=Perturbation.WeeksChandlerAndersen)\n",
    "\n",
    "## BH ##\n",
    "parameters_bh = UVParameters.from_lists(np.array([24.0, 24.0]), np.array([6.0, 6.0]), diameters, eps_k)\n",
    "eos_bh = UVTheory(parameters_bh, perturbation=Perturbation.BarkerHenderson)\n",
    "\n",
    "## State ##\n",
    "dimensionless_temperature = 4.0\n",
    "dimensionless_density = 1.0\n",
    "temperature = dimensionless_temperature * eps_k[0] * KELVIN\n",
    "density = dimensionless_density / (diameters[0]**3 * ANGSTROM**3 * NAV)\n",
    "\n",
    "\n",
    "state_wca = State(eos_wca, temperature=temperature, density=density, molefracs = np.array([0.7, 0.3]))\n",
    "a_wca = state_wca.helmholtz_energy(Contributions.Residual) / (KB * temperature)\n",
    "\n",
    "state_bh = State(eos_bh, temperature=temperature, density=density, molefracs = np.array([0.7, 0.3]))\n",
    "a_bh = state_bh.helmholtz_energy(Contributions.Residual) / (KB * temperature)\n",
    "\n",
    "a_thijs_wca = 1.973655316\n",
    "a_thijs_bh = 2.993577297\n",
    "print('      |Result Rust Implementation| Result Thijs | Difference')\n",
    "print('  WCA |{}        | {}  |{}'.format(a_wca, a_thijs_wca, np.abs(a_wca - a_thijs_wca)))\n",
    "print('  BH  |{}        | {}  |{}'.format(a_bh, a_thijs_bh, np.abs(a_bh - a_thijs_bh)))"
   ]
  },
  {
   "cell_type": "markdown",
   "metadata": {},
   "source": [
    "Test 2: Different diameters, energy parameters and repulsive exponents"
   ]
  },
  {
   "cell_type": "code",
   "execution_count": 22,
   "metadata": {},
   "outputs": [
    {
     "name": "stdout",
     "output_type": "stream",
     "text": [
      "      |Result Rust Implementation| Result Thijs | Difference\n",
      "  WCA |1.013960525855307        | 0.0  |1.013960525855307\n",
      "  BH  |0.9882810519354143        | 0.0  |0.9882810519354143\n"
     ]
    }
   ],
   "source": [
    "diameters = np.array([2.0, 1.0]) # in Angstrom\n",
    "eps_k = np.array([2.0, 1.0]) # in Kelvin\n",
    "\n",
    "## WCA ##\n",
    "parameters_wca = UVParameters.from_lists(np.array([12.0, 24.0]), np.array([6.0, 6.0]), diameters, eps_k)\n",
    "eos_wca = UVTheory(parameters_wca, perturbation=Perturbation.WeeksChandlerAndersen)\n",
    "\n",
    "## BH ##\n",
    "parameters_bh = UVParameters.from_lists(np.array([12.0, 24.0]), np.array([6.0, 6.0]), diameters, eps_k)\n",
    "eos_bh = UVTheory(parameters_bh, perturbation=Perturbation.BarkerHenderson)\n",
    "\n",
    "## State ##\n",
    "dimensionless_temperature = 4.0\n",
    "dimensionless_density = 1.0\n",
    "temperature = dimensionless_temperature * eps_k[0] * KELVIN\n",
    "density = dimensionless_density / (diameters[0]**3 * ANGSTROM**3 * NAV)\n",
    "\n",
    "\n",
    "state_wca = State(eos_wca, temperature=temperature, density=density, molefracs = np.array([0.7, 0.3]))\n",
    "a_wca = state_wca.helmholtz_energy(Contributions.Residual) / (KB * temperature)\n",
    "\n",
    "state_bh = State(eos_bh, temperature=temperature, density=density, molefracs = np.array([0.7, 0.3]))\n",
    "a_bh = state_bh.helmholtz_energy(Contributions.Residual) / (KB * temperature)\n",
    "\n",
    "a_thijs_wca = 0.0\n",
    "a_thijs_bh = 0.0\n",
    "print('      |Result Rust Implementation| Result Thijs | Difference')\n",
    "print('  WCA |{}        | {}  |{}'.format(a_wca, a_thijs_wca, np.abs(a_wca - a_thijs_wca)))\n",
    "print('  BH  |{}        | {}  |{}'.format(a_bh, a_thijs_bh, np.abs(a_bh - a_thijs_bh)))"
   ]
  }
 ],
 "metadata": {
  "kernelspec": {
   "display_name": "feos_github_venv",
   "language": "python",
   "name": "feos_github_venv"
  },
  "language_info": {
   "codemirror_mode": {
    "name": "ipython",
    "version": 3
   },
   "file_extension": ".py",
   "mimetype": "text/x-python",
   "name": "python",
   "nbconvert_exporter": "python",
   "pygments_lexer": "ipython3",
   "version": "3.8.5"
  }
 },
 "nbformat": 4,
 "nbformat_minor": 4
}
